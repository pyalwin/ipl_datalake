{
 "cells": [
  {
   "cell_type": "code",
   "execution_count": 2,
   "metadata": {},
   "outputs": [],
   "source": [
    "from scores.models import Deliveries, Matches\n",
    "from django.db.models import Count\n",
    "\n",
    "season = '2017'\n",
    "\n",
    "season_obj = Matches.objects.filter(season=season)"
   ]
  },
  {
   "cell_type": "code",
   "execution_count": 10,
   "metadata": {},
   "outputs": [
    {
     "name": "stdout",
     "output_type": "stream",
     "text": [
      "[{'winner': 'Mumbai Indians', 'winning_count': 12}, {'winner': 'Rising Pune Supergiant', 'winning_count': 10}, {'winner': 'Kolkata Knight Riders', 'winning_count': 9}, {'winner': 'Sunrisers Hyderabad', 'winning_count': 8}, {'winner': 'Kings XI Punjab', 'winning_count': 7}]\n"
     ]
    }
   ],
   "source": [
    "number_of_winners = 5\n",
    "winner_statistics = list(season_obj.values('winner').annotate(winning_count=Count('winner')).order_by('-winning_count')[:number_of_winners\n",
    "                                                                                                                    ])\n",
    "print (winner_statistics)\n"
   ]
  },
  {
   "cell_type": "code",
   "execution_count": 20,
   "metadata": {},
   "outputs": [
    {
     "name": "stdout",
     "output_type": "stream",
     "text": [
      "[{'toss_winner': 'Mumbai Indians', 'tossWon': 11}]\n"
     ]
    }
   ],
   "source": [
    "toss_winner = season_obj.values('toss_winner').annotate(tossWon=Count('toss_winner')).order_by('-tossWon')\n",
    "maximum_won_toss = toss_winner.first()['tossWon']\n",
    "teams_won_maximum_toss = list(toss_winner.filter(tossWon=maximum_won_toss))\n",
    "print (teams_won_maximum_toss)"
   ]
  },
  {
   "cell_type": "code",
   "execution_count": 22,
   "metadata": {},
   "outputs": [
    {
     "name": "stdout",
     "output_type": "stream",
     "text": [
      "[{'player_of_match': 'BA Stokes', 'awardsCount': 3}, {'player_of_match': 'NM Coulter-Nile', 'awardsCount': 3}]\n"
     ]
    }
   ],
   "source": [
    "player_of_match = season_obj.values('player_of_match').annotate(awardsCount=Count('player_of_match')).order_by('-awardsCount')\n",
    "maximum_won_award_count = player_of_match.first()['awardsCount']\n",
    "max_player_of_match = list(player_of_match.filter(awardsCount=maximum_won_award_count))\n",
    "print (max_player_of_match)"
   ]
  },
  {
   "cell_type": "code",
   "execution_count": 25,
   "metadata": {},
   "outputs": [
    {
     "name": "stdout",
     "output_type": "stream",
     "text": [
      "[{'city': 'Mumbai', 'winCount': 5}]\n"
     ]
    }
   ],
   "source": [
    "top_team = winner_statistics[0]['winner']\n",
    "max_won_location_obj = season_obj.filter(winner=top_team).values('city').annotate(winCount=Count('city')).order_by('-winCount')\n",
    "max_won_count = max_won_location_obj.first()['winCount']\n",
    "max_won_locations = list(max_won_location_obj.filter(winCount=max_won_count))\n",
    "print (max_won_locations)"
   ]
  }
 ],
 "metadata": {
  "kernelspec": {
   "display_name": "Django Shell-Plus",
   "language": "python",
   "name": "django_extensions"
  },
  "language_info": {
   "codemirror_mode": {
    "name": "ipython",
    "version": 3
   },
   "file_extension": ".py",
   "mimetype": "text/x-python",
   "name": "python",
   "nbconvert_exporter": "python",
   "pygments_lexer": "ipython3",
   "version": "3.6.5"
  }
 },
 "nbformat": 4,
 "nbformat_minor": 2
}
